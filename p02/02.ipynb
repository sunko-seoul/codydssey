{
 "cells": [
  {
   "cell_type": "code",
   "execution_count": null,
   "metadata": {},
   "outputs": [],
   "source": []
  },
  {
   "cell_type": "markdown",
   "metadata": {},
   "source": [
    "kmr_dataset/datafile/kmrd-small 폴더에 필요한 데이터가 있다.\n",
    "KMRD 데이터 준비 및 로딩\n",
    "각 파일에는 어떤 데이터가 저장되어 있고 어떤 데이터 필드로 구성되어 있는지 파악하라.\n",
    "Pandas를 이용해서 데이터를 로딩해서 데이터를 확인하라.\n",
    "기본 통계 확인\n",
    "사용자 수, 영화 수, 평점 수, 제작국가 수, 출연진 수, 장르 개수 등의 기본 통계를 확인하라."
   ]
  },
  {
   "cell_type": "code",
   "execution_count": 1,
   "metadata": {},
   "outputs": [
    {
     "name": "stdout",
     "output_type": "stream",
     "text": [
      "Requirement already satisfied: pandas in /Users/sunko/Documents/codyssey/codyssey/lib/python3.11/site-packages (2.2.3)\n",
      "Requirement already satisfied: numpy>=1.23.2 in /Users/sunko/Documents/codyssey/codyssey/lib/python3.11/site-packages (from pandas) (2.2.0)\n",
      "Requirement already satisfied: python-dateutil>=2.8.2 in /Users/sunko/Documents/codyssey/codyssey/lib/python3.11/site-packages (from pandas) (2.9.0.post0)\n",
      "Requirement already satisfied: pytz>=2020.1 in /Users/sunko/Documents/codyssey/codyssey/lib/python3.11/site-packages (from pandas) (2024.2)\n",
      "Requirement already satisfied: tzdata>=2022.7 in /Users/sunko/Documents/codyssey/codyssey/lib/python3.11/site-packages (from pandas) (2024.2)\n",
      "Requirement already satisfied: six>=1.5 in /Users/sunko/Documents/codyssey/codyssey/lib/python3.11/site-packages (from python-dateutil>=2.8.2->pandas) (1.17.0)\n",
      "\n",
      "\u001b[1m[\u001b[0m\u001b[34;49mnotice\u001b[0m\u001b[1;39;49m]\u001b[0m\u001b[39;49m A new release of pip is available: \u001b[0m\u001b[31;49m24.2\u001b[0m\u001b[39;49m -> \u001b[0m\u001b[32;49m24.3.1\u001b[0m\n",
      "\u001b[1m[\u001b[0m\u001b[34;49mnotice\u001b[0m\u001b[1;39;49m]\u001b[0m\u001b[39;49m To update, run: \u001b[0m\u001b[32;49mpip install --upgrade pip\u001b[0m\n",
      "Note: you may need to restart the kernel to use updated packages.\n"
     ]
    }
   ],
   "source": [
    "# pip install pandas"
   ]
  },
  {
   "cell_type": "code",
   "execution_count": 7,
   "metadata": {},
   "outputs": [
    {
     "name": "stdout",
     "output_type": "stream",
     "text": [
      "기본 통계:\n",
      "사용자 수: 52,028\n",
      "총 영화 수: 999\n",
      "전체 평점 수: 140,710\n",
      "제작 국가 수: 36\n",
      "실제 출연 배우 수: 6,644\n",
      "장르 수: 20\n"
     ]
    }
   ],
   "source": [
    "import pandas as pd\n",
    "import os\n",
    "\n",
    "# 상위 디렉토리로 이동하여 kmrd 폴더에 접근\n",
    "data_dir = '../kmrd/kmr_dataset/datafile/kmrd-small'\n",
    "movie_df = pd.read_csv(os.path.join(data_dir, 'movies.txt'), sep='\\t')\n",
    "\n",
    "# 평점 데이터 로드\n",
    "rates_df = pd.read_csv(os.path.join(data_dir, 'rates.csv'))\n",
    "\n",
    "# 출연진 데이터 로드\n",
    "castings_df = pd.read_csv(os.path.join(data_dir, 'castings.csv'))\n",
    "\n",
    "# 인물 데이터 로드\n",
    "peoples_df = pd.read_csv(os.path.join(data_dir, 'peoples.txt'), sep='\\t')\n",
    "\n",
    "# 제작 국가 데이터 로드\n",
    "countries_df = pd.read_csv(os.path.join(data_dir, 'countries.csv'))\n",
    "\n",
    "# 장르 데이터 로드\n",
    "genres_df = pd.read_csv(os.path.join(data_dir, 'genres.csv'))\n",
    "\n",
    "\n",
    "\n",
    "\n",
    "# 기본 통계 계산\n",
    "n_users = rates_df['user'].nunique()  # 고유 사용자 수\n",
    "n_movies = movie_df.shape[0] # 영화 수\n",
    "n_ratings = len(rates_df)  # 전체 평점 수\n",
    "n_countries = countries_df['country'].nunique()  # 제작 국가 수\n",
    "n_cast_in_movies = castings_df['people'].nunique()  # 출연진 수\n",
    "n_genres = genres_df['genre'].nunique()  # 장르 수\n",
    "\n",
    "# 통계 출력\n",
    "print(f\"기본 통계:\")\n",
    "print(f\"사용자 수: {n_users:,}\")\n",
    "print(f\"총 영화 수: {n_movies:,}\")\n",
    "print(f\"전체 평점 수: {n_ratings:,}\")\n",
    "print(f\"제작 국가 수: {n_countries:,}\")\n",
    "print(f\"실제 출연 배우 수: {n_cast_in_movies:,}\")\n",
    "print(f\"장르 수: {n_genres:,}\")\n",
    "\n",
    "\n",
    "\n",
    "\n"
   ]
  },
  {
   "cell_type": "code",
   "execution_count": null,
   "metadata": {},
   "outputs": [],
   "source": []
  }
 ],
 "metadata": {
  "kernelspec": {
   "display_name": "codyssey",
   "language": "python",
   "name": "python3"
  },
  "language_info": {
   "codemirror_mode": {
    "name": "ipython",
    "version": 3
   },
   "file_extension": ".py",
   "mimetype": "text/x-python",
   "name": "python",
   "nbconvert_exporter": "python",
   "pygments_lexer": "ipython3",
   "version": "3.11.10"
  }
 },
 "nbformat": 4,
 "nbformat_minor": 2
}
