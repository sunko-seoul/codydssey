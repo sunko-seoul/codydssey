{
 "cells": [
  {
   "cell_type": "code",
   "execution_count": 1,
   "metadata": {},
   "outputs": [],
   "source": [
    "import pandas as pd\n",
    "\n",
    "# 1. 데이터 불러오기\n",
    "file_path = \"prob-0101.csv\"  # 파일 경로\n",
    "movies_data = pd.read_csv(file_path)"
   ]
  },
  {
   "cell_type": "code",
   "execution_count": 2,
   "metadata": {},
   "outputs": [
    {
     "name": "stdout",
     "output_type": "stream",
     "text": [
      "59\n",
      "52\n",
      "58\n",
      "20\n"
     ]
    }
   ],
   "source": [
    "# 2. 데이터 통계 확인\n",
    "# 영화 개수, 배급사 수, 감독 수, 장르 수, 출연진 수 확인\n",
    "movie_count = movies_data['제목'].nunique()\n",
    "distributor_count = movies_data['배급사'].nunique()\n",
    "director_count = movies_data['감독'].nunique()\n",
    "genre_count = movies_data['장르'].nunique()\n",
    "\n",
    "#test\n",
    "print(movie_count)\n",
    "print(distributor_count)\n",
    "print(director_count)\n",
    "print(genre_count)\n"
   ]
  },
  {
   "cell_type": "code",
   "execution_count": 13,
   "metadata": {},
   "outputs": [
    {
     "name": "stdout",
     "output_type": "stream",
     "text": [
      "262\n",
      "14\n"
     ]
    }
   ],
   "source": [
    "# 출연진 수 계산\n",
    "actors_list = movies_data['출연진'].str.split(', ').explode().unique()\n",
    "actor_count = len(actors_list)\n",
    "\n",
    "#test\n",
    "print(actor_count)\n",
    "\n",
    "genres_list = movies_data['장르'].str.split(', ').explode().unique()\n",
    "gerens_unique = movies_data['장르'].str.replace('·', ',').str.replace('/', ',').str.replace(' ', '').str.replace(', ', ',').str.split(',').explode().unique()\n",
    "gernes_count = len(gerens_unique)\n",
    "print(gernes_count)"
   ]
  },
  {
   "cell_type": "code",
   "execution_count": 11,
   "metadata": {},
   "outputs": [
    {
     "name": "stdout",
     "output_type": "stream",
     "text": [
      "           개봉일      제목            배급사    감독  \\\n",
      "39  2023-04-26      드림  (주)플렉스엠엔터테인먼트   이병헌   \n",
      "19  2023-03-23  낭만 캠퍼스        (주)콘텐츠윙   박동기   \n",
      "32  2023-04-12      제비        (주)시네마달  이송희일   \n",
      "\n",
      "                                                 출연진   장르  출연진 수  \n",
      "39  박서준, 아이유, 김종수, 고창석, 정승길, 이현우, 양현민, 홍완표, 허준석, 이하늬  드라마     10  \n",
      "19                 신민재, 송보은, 이경욱, 설유진, 현진영, 박동기, 김세환  드라마      7  \n",
      "32                  윤박, 우지현, 박미현, 장희령, 이대연, 박소진, 유인수  드라마      7  \n"
     ]
    }
   ],
   "source": [
    "# 3. 추천 기준: 드라마 장르 중 출연진이 가장 많은 영화\n",
    "\n",
    "# '드라마' 장르 필터링\n",
    "drama_movies = movies_data[movies_data['장르'] == '드라마'].copy()\n",
    "\n",
    "# 출연진 수 계산\n",
    "drama_movies['출연진 수'] = drama_movies['출연진'].str.split(', ').apply(len)\n",
    "\n",
    "# 출연진 수 기준 정렬하여 상위 3개 선택\n",
    "top_drama_movies = drama_movies.sort_values(by='출연진 수', ascending=False).head(3)\n",
    "\n",
    "print(top_drama_movies)"
   ]
  },
  {
   "cell_type": "code",
   "execution_count": 22,
   "metadata": {},
   "outputs": [
    {
     "name": "stdout",
     "output_type": "stream",
     "text": [
      "\n",
      "'롯데컬처웍스' 배급사의 영화 목록:\n",
      "- 제목: 스위치, 감독: 마대윤, 출연진: 권상우, 오정세, 이민정, 박소이, 김준, 장르: 기타\n"
     ]
    }
   ],
   "source": [
    "# 특정 배급사로 추천 (예: \"롯데컬처웍스\")\n",
    "specific_distributor = \"롯데컬처웍스\"\n",
    "movies_by_distributor = movies_data[movies_data['배급사'].str.contains(specific_distributor, na=False)]\n",
    "\n",
    "# 결과 출력\n",
    "print(f\"\\n'{specific_distributor}' 배급사의 영화 목록:\")\n",
    "for index, row in movies_by_distributor.iterrows():\n",
    "    print(f\"- 제목: {row['제목']}, 감독: {row['감독']}, 출연진: {row['출연진']}, 장르: {row['장르']}\")\n"
   ]
  },
  {
   "cell_type": "code",
   "execution_count": 23,
   "metadata": {},
   "outputs": [
    {
     "name": "stdout",
     "output_type": "stream",
     "text": [
      "\n",
      "장르별 가장 다양한 출연진을 가진 영화 목록:\n",
      "- 장르: SF, 제목: 정이, 감독: 연상호, 출연진: 강수연, 김현주, 류경수 (출연진 수: 3)\n",
      "- 장르: 공포,코미디, 제목: 손, 감독: 최윤호, 출연진: 이재원, 박상욱, 정서하, 허웅, 안수호 (출연진 수: 5)\n",
      "- 장르: 공포·미스터리, 제목: 스트리머, 감독: 장형모, 출연진: 이푸름, 권민혁, 김준형, 심소영, 김모범 (출연진 수: 5)\n",
      "- 장르: 기타, 제목: 스프린터, 감독: 최승연, 출연진: 박성일, 공민정, 임지호, 전신환, 송덕호, 최준혁, 한태경 (출연진 수: 7)\n",
      "- 장르: 다큐멘터리, 제목: 장기자랑, 감독: 이소현, 출연진: 김명임, 김도현, 김순덕, 박유신, 이미경, 최지연, 박혜영 (출연진 수: 7)\n",
      "- 장르: 드라마, 제목: 드림, 감독: 이병헌, 출연진: 박서준, 아이유, 김종수, 고창석, 정승길, 이현우, 양현민, 홍완표, 허준석, 이하늬 (출연진 수: 10)\n",
      "- 장르: 드라마, 멜로·로맨스, 가족, 제목: 여섯 개의 밤, 감독: 최창환, 출연진: 강길우, 강진아, 김시은, 변중희, 이한주, 정수지 (출연진 수: 6)\n",
      "- 장르: 드라마,멜로, 제목: 밥만 잘 사주는 이상한 이사님 극장판, 감독: 양경희, 출연진: 박정우, 박영훈 (출연진 수: 2)\n",
      "- 장르: 멜로,로맨스,드라마, 제목: 솔라 플라워, 감독: 한경탁, 출연진: 오원빈, 서지희, 심현탁, 박정철, 김수하, 김민, 김봉주, 조수빈, 정병훈 (출연진 수: 9)\n",
      "- 장르: 멜로/로맨스, 제목: 별 볼일 없는 인생, 감독: 서동현, 출연진: 정가은 (출연진 수: 1)\n",
      "- 장르: 멜로·로맨스, 제목: 여덟 번째 감각, 감독: 배인우, 출연진: 오준택, 임지섭, 박해인, 장영준, 방진원, 서지안, 채수아 (출연진 수: 7)\n",
      "- 장르: 멜로·로맨스·코미디, 제목: 우리 사랑이 향기로 남을 때, 감독: 임성용, 출연진: 윤시윤, 설인아, 노상현, 문지인, 이규복, 김영웅 (출연진 수: 6)\n",
      "- 장르: 범죄, 제목: 아수라장: 범털들의 전쟁, 감독: 윤여창, 출연진: 정영주, 안미나, 배진아, 한가은 (출연진 수: 4)\n",
      "- 장르: 범죄, 드라마, 제목: 대외비, 감독: 이원태, 출연진: 조진웅, 이성민, 김무열 (출연진 수: 3)\n",
      "- 장르: 범죄, 액션, 제목: 범죄도시 3, 감독: 이상용, 출연진: 마동석, 이준혁, 아오키 무네타카, 이범수, 김민재, 이지훈, 김도건, 최동구, 이세호, 고규필, 전석호, 최우준, 한규원, 이태규, 홍준영, 안세호, 강윤, 배누리, 심영은, 김기호 (출연진 수: 20)\n",
      "- 장르: 범죄·액션·스럴리, 제목: 나는 여기에 있다, 감독: 신근호, 출연진: 조한선, 정지운, 정태우, 노수산나, 박순천, 정인기, 이지원 (출연진 수: 7)\n",
      "- 장르: 스릴러, 제목: 스마트폰을 떨어뜨렸을 뿐인데, 감독: 김태준, 출연진: 천우희, 임시완, 김희원 (출연진 수: 3)\n",
      "- 장르: 액션, 제목: 유령, 감독: 이해영, 출연진: 설경구, 이하늬, 박소감, 박해수, 서현우, 김동희 (출연진 수: 6)\n",
      "- 장르: 코미디, 제목: 말이야 바른 말이지, 감독: [1], 출연진: 김경일, 양현민, 김소형, 김우겸, 정승길, 조윤서, 신사랑, 오경화, 서벽준, 정유연 (출연진 수: 10)\n",
      "- 장르: 코미디, 액션, 제목: 웅남이, 감독: 박성광, 출연진: 박성웅, 이이경, 염혜란, 최민수, 오달수, 윤제문, 백지혜, 서동원, 한다솔 (출연진 수: 9)\n"
     ]
    }
   ],
   "source": [
    "# 장르별로 출연진 수를 계산\n",
    "movies_data['출연진 수'] = movies_data['출연진'].str.split(', ').apply(len)\n",
    "top_movies_by_genre = movies_data.loc[movies_data.groupby('장르')['출연진 수'].idxmax()]\n",
    "\n",
    "# 결과 출력\n",
    "print(\"\\n장르별 가장 다양한 출연진을 가진 영화 목록:\")\n",
    "for index, row in top_movies_by_genre.iterrows():\n",
    "    print(f\"- 장르: {row['장르']}, 제목: {row['제목']}, 감독: {row['감독']}, 출연진: {row['출연진']} (출연진 수: {row['출연진 수']})\")\n"
   ]
  },
  {
   "cell_type": "code",
   "execution_count": 16,
   "metadata": {},
   "outputs": [
    {
     "name": "stdout",
     "output_type": "stream",
     "text": [
      "\n",
      "'임순례' 감독의 영화 목록:\n",
      "- 제목: 교섭, 배급사: 플렉스엠엔터테인먼트, 출연진: 황정민, 현빈, 강기영, 장르: 드라마\n"
     ]
    }
   ],
   "source": [
    "# 특정 감독으로 추천 (예: \"임순례\")\n",
    "specific_director = \"임순례\"\n",
    "movies_by_director = movies_data[movies_data['감독'] == specific_director]\n",
    "\n",
    "# 결과 출력\n",
    "print(f\"\\n'{specific_director}' 감독의 영화 목록:\")\n",
    "for index, row in movies_by_director.iterrows():\n",
    "    print(f\"- 제목: {row['제목']}, 배급사: {row['배급사']}, 출연진: {row['출연진']}, 장르: {row['장르']}\")\n"
   ]
  },
  {
   "cell_type": "code",
   "execution_count": 14,
   "metadata": {},
   "outputs": [
    {
     "name": "stdout",
     "output_type": "stream",
     "text": [
      "개봉일\n",
      "2023-04-12    6\n",
      "2023-03-29    5\n",
      "2023-04-05    4\n",
      "2023-05-10    3\n",
      "2023-06-21    3\n",
      "2023-02-08    3\n",
      "2023-06-28    2\n",
      "2023-06-07    2\n",
      "2023-05-31    2\n",
      "2023-03-01    2\n",
      "2023-02-22    2\n",
      "2023-06-08    2\n",
      "2023-01-18    2\n",
      "2023-01-12    2\n",
      "2023-04-19    2\n",
      "Name: count, dtype: int64\n"
     ]
    }
   ],
   "source": [
    "# 하루에 두 편 이상 개봉한 날짜\n",
    "daily_movie_counts = movies_data['개봉일'].value_counts()\n",
    "print(daily_movie_counts[daily_movie_counts >= 2])"
   ]
  },
  {
   "cell_type": "code",
   "execution_count": 15,
   "metadata": {},
   "outputs": [
    {
     "name": "stdout",
     "output_type": "stream",
     "text": [
      "\n",
      "가장 많은 영화가 개봉한 날짜: 2023-04-12 (6편)\n"
     ]
    }
   ],
   "source": [
    "# 하루에 개봉한 영화가 가장 많은 날\n",
    "most_movies_date = daily_movie_counts.idxmax()\n",
    "most_movies_count = daily_movie_counts.max()\n",
    "print(f\"\\n가장 많은 영화가 개봉한 날짜: {most_movies_date} ({most_movies_count}편)\")"
   ]
  },
  {
   "cell_type": "code",
   "execution_count": 18,
   "metadata": {},
   "outputs": [
    {
     "name": "stdout",
     "output_type": "stream",
     "text": [
      "\n",
      "감독이 중복인 영화 목록: ['실버맨', '손']\n"
     ]
    }
   ],
   "source": [
    "# 감독이 중복인 영화\n",
    "duplicate_director_movies = movies_data[movies_data.duplicated(subset='감독', keep=False)]\n",
    "print(\"\\n감독이 중복인 영화 목록:\", duplicate_director_movies['제목'].tolist())"
   ]
  },
  {
   "cell_type": "code",
   "execution_count": 19,
   "metadata": {},
   "outputs": [
    {
     "name": "stdout",
     "output_type": "stream",
     "text": [
      "\n",
      "출연진이 중복인 영화 목록: []\n"
     ]
    }
   ],
   "source": [
    "# 출연진이 중복인 영화\n",
    "duplicate_actor_movies = movies_data[movies_data.duplicated(subset='출연진', keep=False)]\n",
    "print(\"\\n출연진이 중복인 영화 목록:\", duplicate_actor_movies['제목'].tolist())\n"
   ]
  },
  {
   "cell_type": "code",
   "execution_count": null,
   "metadata": {},
   "outputs": [],
   "source": []
  }
 ],
 "metadata": {
  "kernelspec": {
   "display_name": "codyssey",
   "language": "python",
   "name": "python3"
  },
  "language_info": {
   "codemirror_mode": {
    "name": "ipython",
    "version": 3
   },
   "file_extension": ".py",
   "mimetype": "text/x-python",
   "name": "python",
   "nbconvert_exporter": "python",
   "pygments_lexer": "ipython3",
   "version": "3.11.10"
  }
 },
 "nbformat": 4,
 "nbformat_minor": 2
}
